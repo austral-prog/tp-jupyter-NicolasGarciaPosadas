{
 "cells": [
  {
   "attachments": {
    "ce7cbcbb-1982-4704-8138-f700a70b7177.jpg": {
     "image/jpeg": "[encoded data removed]"
    }
   },
   "cell_type": "markdown",
   "metadata": {},
   "source": [
    "# [EXERCISE 1]\n",
    "## Nicolas Garcia Posadas , ngarciaposadas@mail.austral.edu.ar\n",
    "![Honey_badger.jpg](attachment:ce7cbcbb-1982-4704-8138-f700a70b7177.jpg)\n",
    " Este es el tejon de la miel, mi animal favorito"
   ]
  },
  {
   "cell_type": "markdown",
   "metadata": {},
   "source": [
    "---"
   ]
  },
  {
   "cell_type": "markdown",
   "metadata": {},
   "source": [
    "# [EXERCISE 2]"
   ]
  },
  {
   "cell_type": "code",
   "execution_count": 11,
   "metadata": {},
   "outputs": [
    {
     "name": "stdin",
     "output_type": "stream",
     "text": [
      "ingrese la base del rectangulo 1\n",
      "ingrese la altura del rectangulo 5\n"
     ]
    },
    {
     "name": "stdout",
     "output_type": "stream",
     "text": [
      "5\n"
     ]
    }
   ],
   "source": [
    "#Write a function rectangle_area(width, height) that takes the width and height of a rectangle as input and returns its area.\n",
    "\n",
    "\n",
    "width = int(input(\"ingrese la base del rectangulo\"))\n",
    "height = int(input(\"ingrese la altura del rectangulo\"))\n",
    "\n",
    "def rectangle_area(width,heigth):\n",
    "    print(width*height);\n",
    "\n",
    "rectangle_area(width,height)\n"
   ]
  },
  {
   "cell_type": "markdown",
   "metadata": {},
   "source": [
    "# [EXERCISE 3]\n",
    "\n"
   ]
  },
  {
   "cell_type": "code",
   "execution_count": 25,
   "metadata": {},
   "outputs": [
    {
     "name": "stdout",
     "output_type": "stream",
     "text": [
      "The area of a rectangle with width 3 and height 4 is 12\n",
      "The area of a rectangle with width 5 and height 10 is 50\n",
      "The area of a rectangle with width 8 and height 2 is 16\n"
     ]
    }
   ],
   "source": [
    "#Use your created function to calculate the area of a rectangle with width 3 and height 4. Another of width 5 and height 10, and another of width 8 and height 2. Show your results in the same cell with a description of each result. Similar to this example:\n",
    "#`The area of a rectangle with width 3 and height 4 is 12.`\n",
    "def rectangle_area(width,height):\n",
    "     return width * height\n",
    "\n",
    "width1,height1 = 3 , 4\n",
    "width2,height2 = 5,10\n",
    "width3,height3 = 8,2\n",
    "print(f\"The area of a rectangle with width {width1} and height {height1} is {rectangle_area(width1,height1)}\")\n",
    "print(f\"The area of a rectangle with width {width2} and height {height2} is {rectangle_area(width2,height2)}\")\n",
    "print(f\"The area of a rectangle with width {width3} and height {height3} is {rectangle_area(width3,height3)}\")"
   ]
  },
  {
   "cell_type": "markdown",
   "metadata": {},
   "source": [
    "# [EXERCISE 5]\n"
   ]
  },
  {
   "cell_type": "code",
   "execution_count": null,
   "metadata": {},
   "outputs": [],
   "source": [
    "a = 3\n",
    "b = 7"
   ]
  },
  {
   "cell_type": "markdown",
   "metadata": {},
   "source": [
    "Suma a+b"
   ]
  },
  {
   "cell_type": "code",
   "execution_count": 32,
   "metadata": {},
   "outputs": [
    {
     "name": "stdout",
     "output_type": "stream",
     "text": [
      "10\n"
     ]
    }
   ],
   "source": [
    "a = 3\n",
    "b = 7\n",
    "print(a+b)"
   ]
  },
  {
   "cell_type": "raw",
   "metadata": {},
   "source": [
    "Resta a-b"
   ]
  },
  {
   "cell_type": "code",
   "execution_count": 33,
   "metadata": {},
   "outputs": [
    {
     "name": "stdout",
     "output_type": "stream",
     "text": [
      "-4\n"
     ]
    }
   ],
   "source": [
    "a = 3\n",
    "b = 7\n",
    "print(a-b)"
   ]
  },
  {
   "cell_type": "markdown",
   "metadata": {},
   "source": [
    "Producto a*b"
   ]
  },
  {
   "cell_type": "code",
   "execution_count": 34,
   "metadata": {},
   "outputs": [
    {
     "name": "stdout",
     "output_type": "stream",
     "text": [
      "21\n"
     ]
    }
   ],
   "source": [
    "a = 3\n",
    "b = 7\n",
    "print(a*b)"
   ]
  },
  {
   "cell_type": "markdown",
   "metadata": {},
   "source": [
    "Division a/b"
   ]
  },
  {
   "cell_type": "code",
   "execution_count": 31,
   "metadata": {},
   "outputs": [
    {
     "name": "stdout",
     "output_type": "stream",
     "text": [
      "0.42857142857142855\n"
     ]
    }
   ],
   "source": [
    "a = 3\n",
    "b = 7\n",
    "print(a/b)"
   ]
  }
 ],
 "metadata": {
  "kernelspec": {
   "display_name": "Python 3 (ipykernel)",
   "language": "python",
   "name": "python3"
  },
  "language_info": {
   "codemirror_mode": {
    "name": "ipython",
    "version": 3
   },
   "file_extension": ".py",
   "mimetype": "text/x-python",
   "name": "python",
   "nbconvert_exporter": "python",
   "pygments_lexer": "ipython3",
   "version": "3.12.5"
  }
 },
 "nbformat": 4,
 "nbformat_minor": 4
}
